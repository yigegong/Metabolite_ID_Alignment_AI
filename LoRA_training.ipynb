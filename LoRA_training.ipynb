{
 "cells": [
  {
   "cell_type": "markdown",
   "id": "33g34yt91hf",
   "metadata": {},
   "source": [
    "# Metabolite Identifier Alignment AI with LoRA Fine-tuning\n",
    "\n",
    "## 1. Setup"
   ]
  },
  {
   "cell_type": "code",
   "execution_count": null,
   "id": "8bb46f9a-d012-4f59-a465-7e4bf3e33d99",
   "metadata": {},
   "outputs": [],
   "source": [
    "import os\n",
    "import torch\n",
    "import torch.nn.functional as F\n",
    "import time  \n",
    "import pandas as pd\n",
    "import numpy as np\n",
    "from fuzzywuzzy import fuzz, process\n",
    "import psutil\n",
    "import os\n",
    "import json\n",
    "from sklearn.model_selection import train_test_split\n",
    "import re\n",
    "import torch.nn as nn\n",
    "from transformers import AutoTokenizer, AutoModel, AdamW\n",
    "from peft import LoraConfig, get_peft_model\n",
    "from torch.utils.data import Dataset, DataLoader\n",
    "import random\n",
    "from transformers import BertTokenizer,AutoModel, AutoTokenizer"
   ]
  },
  {
   "cell_type": "code",
   "execution_count": null,
   "id": "1f5eda8c-3aa4-4ae3-b78b-d7c68fb2af7f",
   "metadata": {},
   "outputs": [],
   "source": [
    "import json\n",
    "processed_data= []\n",
    "with open('training_data.jsonl', 'r') as f:\n",
    "    for line in f:\n",
    "        processed_data.append(json.loads(line))\n"
   ]
  },
  {
   "cell_type": "markdown",
   "id": "nunsrq8pdh",
   "metadata": {},
   "source": [
    "## Load Training Data"
   ]
  },
  {
   "cell_type": "code",
   "execution_count": null,
   "id": "b88fafdc-16ae-41d1-9ac3-ba957f74288d",
   "metadata": {},
   "outputs": [],
   "source": [
    "class MetaboliteContrastiveDataset(Dataset):\n",
    "   \"\"\"Dataset for contrastive learning with metabolite pairs\"\"\"\n",
    "   \n",
    "   def __init__(self, data, tokenizer, max_length=64):\n",
    "       self.data = data\n",
    "       self.tokenizer = tokenizer\n",
    "       self.max_length = max_length\n",
    "   \n",
    "   def __len__(self):\n",
    "       return len(self.data)\n",
    "   \n",
    "   def __getitem__(self, idx):\n",
    "       item = self.data[idx]\n",
    "       \n",
    "       # Tokenize both metabolites\n",
    "       tokens1 = self.tokenizer(\n",
    "           item[\"metabolite1\"],\n",
    "           max_length=self.max_length,\n",
    "           padding=\"max_length\",\n",
    "           truncation=True,\n",
    "           return_tensors=\"pt\"\n",
    "       )\n",
    "       \n",
    "       tokens2 = self.tokenizer(\n",
    "           item[\"metabolite2\"],\n",
    "           max_length=self.max_length,\n",
    "           padding=\"max_length\",\n",
    "           truncation=True,\n",
    "           return_tensors=\"pt\"\n",
    "       )\n",
    "       \n",
    "       return {\n",
    "           \"input_ids1\": tokens1[\"input_ids\"].squeeze(),\n",
    "           \"attention_mask1\": tokens1[\"attention_mask\"].squeeze(),\n",
    "           \"input_ids2\": tokens2[\"input_ids\"].squeeze(),\n",
    "           \"attention_mask2\": tokens2[\"attention_mask\"].squeeze(),\n",
    "           \"label\": torch.tensor(item[\"label\"], dtype=torch.float)\n",
    "       }\n"
   ]
  },
  {
   "cell_type": "markdown",
   "id": "6fshq4hdfja",
   "metadata": {},
   "source": [
    "## Define Model Architecture"
   ]
  },
  {
   "cell_type": "code",
   "execution_count": null,
   "id": "60933305-137b-4b69-9475-2e33a65fa77e",
   "metadata": {},
   "outputs": [],
   "source": [
    "class MetaboliteContrastiveModel(nn.Module):\n",
    "   \"\"\"Model for metabolite contrastive learning with LoRA\"\"\"\n",
    "   \n",
    "   def __init__(self, model_name=\"EMBO/BioMegatron345mUncased\"):\n",
    "       super().__init__()\n",
    "       # Load base model\n",
    "       self.encoder = AutoModel.from_pretrained(model_name)\n",
    "       \n",
    "       # Apply LoRA\n",
    "       lora_config = LoraConfig(\n",
    "           r=16,                               # Low rank\n",
    "           lora_alpha=32,                      # Scaling factor\n",
    "           target_modules=[\"query\", \"key\", \"value\", \"dense\"],  # Target attention layers\n",
    "           lora_dropout=0.1,\n",
    "       )\n",
    "       self.encoder = get_peft_model(self.encoder, lora_config)\n",
    "   \n",
    "   def forward(self, input_ids1, attention_mask1, input_ids2, attention_mask2):\n",
    "       # Get embeddings for both metabolites\n",
    "       outputs1 = self.encoder(input_ids=input_ids1, attention_mask=attention_mask1)\n",
    "       outputs2 = self.encoder(input_ids=input_ids2, attention_mask=attention_mask2)\n",
    "       \n",
    "       # Extract CLS token embeddings\n",
    "       emb1 = outputs1.last_hidden_state[:, 0, :]  # [batch_size, hidden_size]\n",
    "       emb2 = outputs2.last_hidden_state[:, 0, :]\n",
    "       \n",
    "       return emb1, emb2\n"
   ]
  },
  {
   "cell_type": "code",
   "execution_count": null,
   "id": "6452445f-7598-4d71-bafb-34c3a954d967",
   "metadata": {},
   "outputs": [],
   "source": [
    "torch.cuda.empty_cache()\n",
    "torch.cuda.reset_peak_memory_stats()"
   ]
  },
  {
   "cell_type": "code",
   "execution_count": null,
   "id": "d5e40c02-3410-459e-bced-bc6498b392c2",
   "metadata": {},
   "outputs": [],
   "source": [
    "\n",
    "def contrastive_loss(emb1, emb2, labels, margin=0.5):\n",
    "   \"\"\"\n",
    "   Contrastive loss function\n",
    "   \n",
    "   Args:\n",
    "       emb1, emb2: Embeddings for metabolite pairs\n",
    "       labels: 1 for positive pairs, 0 for negative pairs\n",
    "       margin: Minimum separation for negative pairs\n",
    "   \"\"\"\n",
    "   # Compute cosine similarity\n",
    "   similarity = F.cosine_similarity(emb1, emb2, dim=1)\n",
    "   \n",
    "   # Convert to distance (1 - similarity)\n",
    "   distance = 1 - similarity\n",
    "   \n",
    "   # Contrastive loss\n",
    "   positive_loss = labels * (distance ** 2)\n",
    "   negative_loss = (1 - labels) * torch.clamp(margin - distance, min=0.0) ** 2\n",
    "   \n",
    "   loss = positive_loss + negative_loss\n",
    "   return loss.mean()\n",
    "\n",
    "def train_contrastive_model(processed_data, epochs=10, batch_size=16, learning_rate=2e-4):\n",
    "   \"\"\"\n",
    "   Train the metabolite contrastive model with LoRA\n",
    "   \n",
    "   Args:\n",
    "       processed_data: Output from preprocess_metabolite_data()\n",
    "       epochs: Number of training epochs\n",
    "       batch_size: Training batch size\n",
    "       learning_rate: Learning rate for optimizer\n",
    "   \"\"\"\n",
    "   # Setup device\n",
    "   device = torch.device(\"cuda\")\n",
    "   \n",
    "   # Initialize tokenizer and model\n",
    "   tokenizer = BertTokenizer.from_pretrained(\"EMBO/BioMegatron345mUncased\")\n",
    "   model = MetaboliteContrastiveModel().to(device)\n",
    "   \n",
    "   # Setup dataset and dataloader\n",
    "   dataset = MetaboliteContrastiveDataset(processed_data, tokenizer)\n",
    "   dataloader = DataLoader(dataset, batch_size=batch_size, shuffle=True)\n",
    "   \n",
    "   # Setup optimizer (only LoRA parameters are trainable)\n",
    "   optimizer = AdamW(model.parameters(), lr=learning_rate)\n",
    "\n",
    "   # Initialize loss tracking\n",
    "   train_losses = []  # Average loss per epoch\n",
    "   batch_losses = []  # Loss per batch\n",
    "    \n",
    "   # Training loop\n",
    "   model.train()\n",
    "   for epoch in range(epochs):\n",
    "       print(epoch)\n",
    "       total_loss = 0\n",
    "       \n",
    "       for batch in dataloader:\n",
    "           # Move batch to device\n",
    "           batch = {k: v.to(device) for k, v in batch.items()}\n",
    "           \n",
    "           # Forward pass\n",
    "           emb1, emb2 = model(\n",
    "               batch[\"input_ids1\"], batch[\"attention_mask1\"],\n",
    "               batch[\"input_ids2\"], batch[\"attention_mask2\"]\n",
    "           )\n",
    "           \n",
    "           # Compute contrastive loss\n",
    "           loss = contrastive_loss(emb1, emb2, batch[\"label\"])\n",
    "           \n",
    "           # Backward pass\n",
    "           optimizer.zero_grad()\n",
    "           loss.backward()\n",
    "           optimizer.step()\n",
    "\n",
    "           batch_loss = loss.item()\n",
    "           total_loss += loss.item()\n",
    "           \n",
    "           batch_losses.append(batch_loss)\n",
    "           \n",
    "       avg_loss = total_loss / len(dataloader)\n",
    "       train_losses.append(avg_loss)\n",
    "   return model, tokenizer,train_losses,batch_losses"
   ]
  },
  {
   "cell_type": "markdown",
   "id": "6c90652c-a9df-4650-b6cf-9045e194310e",
   "metadata": {},
   "source": [
    "## Training"
   ]
  },
  {
   "cell_type": "code",
   "execution_count": null,
   "id": "401897d5-969e-45bf-9af2-1364a91317c7",
   "metadata": {},
   "outputs": [
    {
     "name": "stderr",
     "output_type": "stream",
     "text": [
      "Some weights of MegatronBertModel were not initialized from the model checkpoint at EMBO/BioMegatron345mUncased and are newly initialized: ['bert.pooler.dense.bias', 'bert.pooler.dense.weight']\n",
      "You should probably TRAIN this model on a down-stream task to be able to use it for predictions and inference.\n",
      "/opt/conda/lib/python3.11/site-packages/transformers/optimization.py:640: FutureWarning: This implementation of AdamW is deprecated and will be removed in a future version. Use the PyTorch implementation torch.optim.AdamW instead, or set `no_deprecation_warning=True` to disable this warning\n",
      "  warnings.warn(\n"
     ]
    },
    {
     "name": "stdout",
     "output_type": "stream",
     "text": [
      "0\n",
      "1\n",
      "2\n",
      "3\n",
      "4\n",
      "5\n",
      "6\n",
      "7\n",
      "8\n",
      "9\n"
     ]
    }
   ],
   "source": [
    "# Usage\n",
    "model_trained, tokenizer,train_losses,batch_losses = train_contrastive_model(processed_data, epochs=10)\n"
   ]
  },
  {
   "cell_type": "markdown",
   "id": "gklfsn5vp",
   "metadata": {},
   "source": [
    "### Save Model"
   ]
  },
  {
   "cell_type": "code",
   "execution_count": null,
   "id": "184d314d-ffbe-4b06-bc68-444eafcae6fd",
   "metadata": {},
   "outputs": [
    {
     "data": {
      "text/plain": [
       "('./metabolite_lora_model/tokenizer_config.json',\n",
       " './metabolite_lora_model/special_tokens_map.json',\n",
       " './metabolite_lora_model/vocab.txt',\n",
       " './metabolite_lora_model/added_tokens.json')"
      ]
     },
     "execution_count": 8,
     "metadata": {},
     "output_type": "execute_result"
    }
   ],
   "source": [
    "torch.save(model_trained, \"./metabolite_lora_model/complete_model.pth\")\n",
    "\n",
    "# Save tokenizer\n",
    "tokenizer.save_pretrained(\"./metabolite_lora_model\")"
   ]
  },
  {
   "cell_type": "markdown",
   "id": "4kvc8xxxeem",
   "metadata": {},
   "source": [
    "### Visualize Training Loss"
   ]
  },
  {
   "cell_type": "code",
   "execution_count": null,
   "id": "33524cc6-4695-412d-bafb-3bdedba6ce57",
   "metadata": {},
   "outputs": [
    {
     "data": {
      "image/png": "[encoded data removed]",
      "text/plain": [
       "<Figure size 1200x500 with 1 Axes>"
      ]
     },
     "metadata": {},
     "output_type": "display_data"
    },
    {
     "name": "stdout",
     "output_type": "stream",
     "text": [
      "Initial loss: 0.0924\n",
      "Final loss: 0.0019\n",
      "Improvement: 98.0%\n"
     ]
    }
   ],
   "source": [
    "import matplotlib.pyplot as plt\n",
    "import numpy as np\n",
    "\n",
    "# Plot batch losses\n",
    "plt.figure(figsize=(12, 5))\n",
    "\n",
    "# Raw batch losses\n",
    "plt.subplot(1, 2, 1)\n",
    "plt.plot(batch_losses, alpha=0.7, color='lightblue', label='Raw')\n",
    "# Smoothed trend\n",
    "window = max(1, len(batch_losses) // 50)\n",
    "smoothed = np.convolve(batch_losses, np.ones(window)/window, mode='valid')\n",
    "plt.plot(range(window-1, len(batch_losses)), smoothed, 'red', linewidth=2, label='Smoothed')\n",
    "plt.title('Training Loss')\n",
    "plt.xlabel('Batch')\n",
    "plt.ylabel('Loss')\n",
    "plt.legend()\n",
    "plt.grid(True)\n",
    "\n",
    "\n",
    "\n",
    "plt.tight_layout()\n",
    "plt.show()\n",
    "\n",
    "print(f\"Initial loss: {batch_losses[0]:.4f}\")\n",
    "print(f\"Final loss: {batch_losses[-1]:.4f}\")\n",
    "print(f\"Improvement: {(batch_losses[0] - batch_losses[-1])/batch_losses[0]*100:.1f}%\")"
   ]
  },
  {
   "cell_type": "markdown",
   "id": "631d0597-4c4b-4e9f-bc0e-69857537bdb5",
   "metadata": {},
   "source": [
    "## Testing"
   ]
  },
  {
   "cell_type": "code",
   "execution_count": null,
   "id": "3e6bc3c2-c1ec-4340-a826-3112ddc87be5",
   "metadata": {},
   "outputs": [],
   "source": "bigg_mets=pd.read_excel('bigg_mets.xlsx')\nmets_test=pd.read_excel('mets_test_prepared.xlsx')"
  },
  {
   "cell_type": "code",
   "execution_count": null,
   "id": "b4ee1acc-66ee-442b-a2a5-6c2842c6b2b5",
   "metadata": {},
   "outputs": [],
   "source": [
    "metNames=mets_test['metNames'].copy()\n",
    "matched_name=mets_test['BiGG_name'].copy()\n",
    "bigg_names=bigg_mets['name'].copy()\n",
    "bigg_list = bigg_names.dropna().tolist()\n",
    "for i in range(len(metNames)):\n",
    "    if pd.isna(matched_name.iloc[i]):\n",
    "        query_metabolite = metNames.iloc[i]\n",
    "        top_3_fuzzy = process.extract(\n",
    "            query_metabolite, \n",
    "            bigg_list,  # This contains all BiGG names already\n",
    "            scorer=fuzz.ratio,\n",
    "            limit=3\n",
    "        )\n",
    "        matched_name.iloc[i] = top_3_fuzzy"
   ]
  },
  {
   "cell_type": "markdown",
   "id": "c8d8fdd2",
   "metadata": {},
   "source": [
    "### Base Model"
   ]
  },
  {
   "cell_type": "code",
   "execution_count": null,
   "id": "b12befd4-32c1-4c7e-a7ee-2c1e70ad2eed",
   "metadata": {},
   "outputs": [
    {
     "name": "stderr",
     "output_type": "stream",
     "text": [
      "Some weights of MegatronBertModel were not initialized from the model checkpoint at EMBO/BioMegatron345mUncased and are newly initialized: ['bert.pooler.dense.bias', 'bert.pooler.dense.weight']\n",
      "You should probably TRAIN this model on a down-stream task to be able to use it for predictions and inference.\n"
     ]
    }
   ],
   "source": [
    "checkpoint = \"EMBO/BioMegatron345mUncased\"\n",
    "# The tokenizer. Megatron was trained with standard tokenizer(s).\n",
    "tokenizer = BertTokenizer.from_pretrained(checkpoint)\n",
    "model = AutoModel.from_pretrained(checkpoint)\n",
    "device = torch.device(\"cuda:0\") \n",
    "model = model.to(device)"
   ]
  },
  {
   "cell_type": "code",
   "execution_count": null,
   "id": "ac13290a-3c7b-4fcb-b1e7-c5d4a78dfcb8",
   "metadata": {},
   "outputs": [
    {
     "data": {
      "text/plain": [
       "0.9974626302719116"
      ]
     },
     "execution_count": 39,
     "metadata": {},
     "output_type": "execute_result"
    }
   ],
   "source": [
    "def similarity_calculator(met1,met2):\n",
    "    tokens1 = tokenizer(met1, return_tensors=\"pt\").to(device)\n",
    "    tokens2 = tokenizer(met2, return_tensors=\"pt\").to(device)\n",
    "    with torch.no_grad():\n",
    "        outputs1 = model(**tokens1)\n",
    "        outputs2 = model(**tokens2)\n",
    "    cls_emb1 = outputs1.last_hidden_state[:, 0, :]\n",
    "    cls_emb2 = outputs2.last_hidden_state[:, 0, :]\n",
    "    result=F.cosine_similarity(cls_emb1, cls_emb2).item()\n",
    "    return result\n",
    "    \n",
    "# Test with your metabolites\n",
    "met1 = \"1-hexadecanoylsn-glycerol 3phosphate\"\n",
    "met2 = \"1-hexadecanoylsn-glycerol-3phosphate\"\n",
    "similarity_calculator(met1,met2)"
   ]
  },
  {
   "cell_type": "code",
   "execution_count": null,
   "id": "6682cbb2-06f6-4b56-b78e-b147a8f3761b",
   "metadata": {},
   "outputs": [],
   "source": [
    "neural_scores = pd.Series(index=range(len(metNames)), dtype=float)  # Pre-initialize list\n",
    "\n",
    "for i in range(len(metNames)):\n",
    "    if isinstance(matched_name.iloc[i], list):  # Check if it's fuzzy results\n",
    "        query_metabolite = metNames.iloc[i]\n",
    "        fuzzy_results = matched_name.iloc[i]\n",
    "        \n",
    "        best_score = 0\n",
    "        best_match = None\n",
    "        \n",
    "        for candidate_name, fuzzy_score in fuzzy_results:\n",
    "            neural_score = similarity_calculator(query_metabolite, candidate_name)  # Fix: define neural_score\n",
    "            neural_scores[i] = neural_score  # Fix: use neural_score, not neural_scores[i] \n",
    "            \n",
    "            if neural_score > best_score:  # Fix: use neural_score\n",
    "                best_score = neural_score\n",
    "                best_match = candidate_name\n",
    "        \n",
    "        matched_name.iloc[i] = best_match\n",
    "        \n",
    "    elif pd.notna(matched_name.iloc[i]):  # Single match case\n",
    "        neural_scores[i] = similarity_calculator(metNames.iloc[i], matched_name.iloc[i])  # Fix: [i] not [o]"
   ]
  },
  {
   "cell_type": "code",
   "execution_count": null,
   "id": "c0423758-6154-4e9a-8deb-579646504382",
   "metadata": {},
   "outputs": [],
   "source": [
    "mets_test['matched_base_model']=matched_name\n",
    "mets_test['neural_scores_base_model']=neural_scores \n",
    "base_model_classification=(neural_scores > 0.94).astype(int)\n",
    "mets_test['base_model_classification']=base_model_classification"
   ]
  },
  {
   "cell_type": "code",
   "execution_count": null,
   "id": "b0593ced-6d10-46e8-84b8-11178dc925f6",
   "metadata": {},
   "outputs": [],
   "source": [
    "mets_test.to_excel('mets_test_base.xlsx', index=False)"
   ]
  },
  {
   "cell_type": "markdown",
   "id": "f7798f99-c03c-4936-b153-b5003f71ff1f",
   "metadata": {
    "jp-MarkdownHeadingCollapsed": true
   },
   "source": [
    "### Fine-tuned Model"
   ]
  },
  {
   "cell_type": "code",
   "execution_count": null,
   "id": "cca27d30-c9c9-4c28-9a3d-099c0577673d",
   "metadata": {},
   "outputs": [],
   "source": [
    "from peft import PeftModel\n",
    "device = torch.device(\"cuda\")"
   ]
  },
  {
   "cell_type": "code",
   "execution_count": null,
   "id": "7fc85e70-c225-4fa6-9829-b2ded6d86e8b",
   "metadata": {},
   "outputs": [],
   "source": [
    "trained_model = torch.load(\"./metabolite_lora_model/complete_model.pth\", \n",
    "                   map_location=device, weights_only=False)"
   ]
  },
  {
   "cell_type": "code",
   "execution_count": null,
   "id": "d1b1a0d0-67f2-4a1d-8717-59d935388429",
   "metadata": {},
   "outputs": [],
   "source": [
    "trained_model = trained_model.to(device)"
   ]
  },
  {
   "cell_type": "code",
   "execution_count": null,
   "id": "323c831b-9c38-4a29-bf36-8997064ffa20",
   "metadata": {},
   "outputs": [],
   "source": [
    "def similarity_calculator_trained(met1, met2):\n",
    "    # Tokenize both metabolites\n",
    "    tokens1 = tokenizer(met1, max_length=64, padding=\"max_length\", \n",
    "                       truncation=True, return_tensors=\"pt\")\n",
    "    tokens2 = tokenizer(met2, max_length=64, padding=\"max_length\", \n",
    "                       truncation=True, return_tensors=\"pt\")\n",
    "    \n",
    "    # Move to device\n",
    "    input_ids1 = tokens1[\"input_ids\"].to(device)\n",
    "    attention_mask1 = tokens1[\"attention_mask\"].to(device)\n",
    "    input_ids2 = tokens2[\"input_ids\"].to(device)\n",
    "    attention_mask2 = tokens2[\"attention_mask\"].to(device)\n",
    "    \n",
    "    with torch.no_grad():\n",
    "        # Use the model's forward method correctly\n",
    "        emb1, emb2 = trained_model(input_ids1, attention_mask1, input_ids2, attention_mask2)\n",
    "        # Calculate cosine similarity\n",
    "        similarity = torch.cosine_similarity(emb1, emb2, dim=1)\n",
    "    return similarity.cpu().item()"
   ]
  },
  {
   "cell_type": "code",
   "execution_count": null,
   "id": "7b799a7b-d5a5-4cad-8727-003b200349c9",
   "metadata": {},
   "outputs": [],
   "source": [
    "neural_scores = pd.Series(index=range(len(metNames)), dtype=float)  # Pre-initialize list\n",
    "\n",
    "for i in range(len(metNames)):\n",
    "    if isinstance(matched_name.iloc[i], list):  # Check if it's fuzzy results\n",
    "        query_metabolite = metNames.iloc[i]\n",
    "        fuzzy_results = matched_name.iloc[i]\n",
    "        \n",
    "        best_score = 0\n",
    "        best_match = None\n",
    "        \n",
    "        for candidate_name, fuzzy_score in fuzzy_results:\n",
    "            neural_score = similarity_calculator_trained(query_metabolite, candidate_name)  # Fix: define neural_score\n",
    "            neural_scores[i] = neural_score  # Fix: use neural_score, not neural_scores[i] \n",
    "            \n",
    "            if neural_score > best_score:  # Fix: use neural_score\n",
    "                best_score = neural_score\n",
    "                best_match = candidate_name\n",
    "        \n",
    "        matched_name.iloc[i] = best_match\n",
    "        \n",
    "    elif pd.notna(matched_name.iloc[i]):  # Single match case\n",
    "        neural_scores[i] = similarity_calculator_trained(metNames.iloc[i], matched_name.iloc[i])  # Fix: [i] not [o]"
   ]
  },
  {
   "cell_type": "code",
   "execution_count": null,
   "id": "ce469093-7283-4c09-ab47-4fadf65b960b",
   "metadata": {},
   "outputs": [],
   "source": [
    "mets_test['matched_trained_model']=matched_name\n",
    "mets_test['neural_scores_trained_model']=neural_scores \n",
    "trained_model_classification=(neural_scores > 0.94).astype(int)\n",
    "mets_test['trained_model_classification']=trained_model_classification"
   ]
  },
  {
   "cell_type": "code",
   "execution_count": null,
   "id": "b46c8cc2-b02d-4697-a63b-ade1f920c4d3",
   "metadata": {},
   "outputs": [],
   "source": [
    "mets_test.to_excel('mets_test_trained.xlsx', index=False)"
   ]
  },
  {
   "cell_type": "markdown",
   "id": "5f4ec64e-72f3-4b33-a193-c5a5949551c6",
   "metadata": {},
   "source": [
    "### Result"
   ]
  },
  {
   "cell_type": "code",
   "execution_count": null,
   "id": "880dfd26-b10f-4a10-91ee-bbe27aeeb665",
   "metadata": {},
   "outputs": [],
   "source": "mets_test_base=pd.read_excel('mets_test_base.xlsx')"
  },
  {
   "cell_type": "code",
   "execution_count": null,
   "id": "d194042c-8b6c-4fef-b7fa-dcfafc4a35cb",
   "metadata": {},
   "outputs": [
    {
     "name": "stdout",
     "output_type": "stream",
     "text": [
      "base_accuracy,  0.5037037037037037\n"
     ]
    }
   ],
   "source": [
    "base_accuracy=sum(mets_test_base['groundTrueLabel']==mets_test_base['base_model_classification'])/len(mets_test_base['groundTrueLabel'])\n",
    "print(\"base_accuracy, \",base_accuracy)"
   ]
  },
  {
   "cell_type": "code",
   "execution_count": null,
   "id": "834adb7a-fba8-420d-8519-857e9a817f84",
   "metadata": {},
   "outputs": [],
   "source": "mets_test_trained=pd.read_excel('mets_test_trained.xlsx')"
  },
  {
   "cell_type": "code",
   "execution_count": null,
   "id": "374ac66c-d4c0-4ba3-83ea-a50eaa592f0b",
   "metadata": {},
   "outputs": [
    {
     "name": "stdout",
     "output_type": "stream",
     "text": [
      "trained_accuracy,  0.7555555555555555\n"
     ]
    }
   ],
   "source": [
    "trained_accuracy=sum(mets_test_trained['groundTrueLabel']==mets_test_trained['trained_model_classification'])/len(mets_test_trained['groundTrueLabel'])\n",
    "print(\"trained_accuracy, \",trained_accuracy)"
   ]
  },
  {
   "cell_type": "code",
   "execution_count": null,
   "id": "d90d869b-d9ce-4be7-b6b2-a96230619c9f",
   "metadata": {},
   "outputs": [],
   "source": [
    "# Base model false positives\n",
    "fp_indices_base = mets_test_base[\n",
    "      (mets_test_base['groundTrueLabel'] == 0) &\n",
    "      (mets_test_base['base_model_classification'] == 1)\n",
    "  ].index.tolist()\n",
    "\n",
    "  # Base model false negatives\n",
    "fn_indices_base = mets_test_base[\n",
    "      (mets_test_base['groundTrueLabel'] == 1) &\n",
    "      (mets_test_base['base_model_classification'] == 0)\n",
    "  ].index.tolist()\n",
    "\n",
    "  # Trained model false positives\n",
    "fp_indices_trained = mets_test_trained[\n",
    "      (mets_test_trained['groundTrueLabel'] == 0) &\n",
    "      (mets_test_trained['trained_model_classification'] == 1)\n",
    "  ].index.tolist()\n",
    "\n",
    "  # Trained model false negatives\n",
    "fn_indices_trained = mets_test_trained[\n",
    "      (mets_test_trained['groundTrueLabel'] == 1) &\n",
    "      (mets_test_trained['trained_model_classification'] == 0)\n",
    "  ].index.tolist()"
   ]
  },
  {
   "cell_type": "code",
   "execution_count": null,
   "id": "641a26e0-9e38-49d3-8db8-5eda23b960e7",
   "metadata": {},
   "outputs": [
    {
     "name": "stdout",
     "output_type": "stream",
     "text": [
      "Base model - False Positive indices: 62 samples\n",
      "Base model - False Negative indices: 5 samples\n",
      "Trained model - False Positive indices: 24 samples\n",
      "Trained model - False Negative indices: 9 samples\n"
     ]
    }
   ],
   "source": [
    "print(f\"Base model - False Positive indices: {len(fp_indices_base)} samples\")\n",
    "print(f\"Base model - False Negative indices: {len(fn_indices_base)} samples\")\n",
    "print(f\"Trained model - False Positive indices: {len(fp_indices_trained)} samples\")\n",
    "print(f\"Trained model - False Negative indices: {len(fn_indices_trained)} samples\")"
   ]
  },
  {
   "cell_type": "markdown",
   "id": "k96pcoguvpb",
   "metadata": {},
   "source": [
    "### Export corrected cases"
   ]
  },
  {
   "cell_type": "code",
   "execution_count": null,
   "id": "626fb17f-09ba-490b-8507-4bfdcdc37fd5",
   "metadata": {},
   "outputs": [],
   "source": [
    "corrected_fp_base = mets_test_base[\n",
    "      (mets_test_base['groundTrueLabel'] == 0) &\n",
    "      (mets_test_base['base_model_classification'] == 1) &\n",
    "      (mets_test_trained['trained_model_classification'] == 0)\n",
    "  ][['metNames', 'matched_base_model', 'groundTrueLabel', 'neural_scores_base_model']]\n",
    "\n",
    "corrected_fp_trained = mets_test_trained.loc[corrected_fp_base.index, ['neural_scores_trained_model']]\n",
    "corrected_fp = pd.concat([corrected_fp_base, corrected_fp_trained], axis=1)\n",
    "\n",
    "corrected_fn_base = mets_test_base[\n",
    "      (mets_test_base['groundTrueLabel'] == 1) &\n",
    "      (mets_test_base['base_model_classification'] == 0) &\n",
    "      (mets_test_trained['trained_model_classification'] == 1)\n",
    "  ][['metNames', 'matched_base_model', 'groundTrueLabel', 'neural_scores_base_model']]\n",
    "\n",
    "corrected_fn_trained = mets_test_trained.loc[corrected_fn_base.index, ['neural_scores_trained_model']]\n",
    "corrected_fn = pd.concat([corrected_fn_base, corrected_fn_trained], axis=1)\n",
    "\n",
    "with pd.ExcelWriter('corrected_cases.xlsx', engine='openpyxl') as writer:\n",
    "      corrected_fp.to_excel(writer, sheet_name='Corrected_FP', index=True)\n",
    "      corrected_fn.to_excel(writer, sheet_name='Corrected_FN', index=True)"
   ]
  }
 ],
 "metadata": {
  "kernelspec": {
   "display_name": "base",
   "language": "python",
   "name": "python3"
  },
  "language_info": {
   "codemirror_mode": {
    "name": "ipython",
    "version": 3
   },
   "file_extension": ".py",
   "mimetype": "text/x-python",
   "name": "python",
   "nbconvert_exporter": "python",
   "pygments_lexer": "ipython3",
   "version": "3.10.9"
  }
 },
 "nbformat": 4,
 "nbformat_minor": 5
}